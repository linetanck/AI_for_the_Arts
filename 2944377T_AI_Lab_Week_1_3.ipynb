{
 "cells": [
  {
   "cell_type": "markdown",
   "id": "c603502e",
   "metadata": {},
   "source": [
    "<b> `GUID:`</b> 2944377T  \n",
    "<b> `GitHub Repository:`https://github.com/linetanck/AI_for_the_Arts"
   ]
  },
  {
   "cell_type": "markdown",
   "id": "51a1659e",
   "metadata": {},
   "source": [
    "# Week 1: Getting started with Anaconda, Python and Jupyter\n",
    "Exercises to familiarize myself with python."
   ]
  },
  {
   "cell_type": "markdown",
   "id": "13471356",
   "metadata": {},
   "source": [
    "## Why did I chose this course?\n",
    "In the ever changing media landscape, staying up to date with new technological advancements is crucial.  \n",
    "AI has always interested me due to its incredible potential for problem solving. The diversity of usage for AI is very inspiring and motivates me to learn how to implement the technology.  \n",
    "Unfortunately, trying to learn AI coding by yourself is very daunting, so I chose this course to get a guided introduction in the matter. Having someone that organizes all the knowledge for me to then teach it in a consise manner is super helpful in a discipline that is so vast and fast changing."
   ]
  },
  {
   "cell_type": "markdown",
   "id": "77edf4cb",
   "metadata": {},
   "source": [
    "## Prior experience\n",
    "For the last two years of university, I have participated in multiple coding classes that revolved around introducing python, web development, app development and creative programming. I have had a few encounters with the topic of AI, mainly in the area of generating art. For one seminar, I programmed a neural network for classification with the help of my professors."
   ]
  },
  {
   "cell_type": "markdown",
   "id": "dc2c5526",
   "metadata": {},
   "source": [
    "## What do I expect?\n",
    "- Ethical and cultural implications of AI\n",
    "- Programming a neural network possibly\n",
    "- Getting introduced to several areas of AI  \n",
    "  \n",
    "However, I am always open to make many new experiences. On top, it is difficult to state what I want to know if I dont know about it. "
   ]
  },
  {
   "cell_type": "code",
   "execution_count": null,
   "id": "f1e0d0c4",
   "metadata": {},
   "outputs": [],
   "source": [
    "print('Hello Reader!') # print allows you to print out the message specified in th brackets"
   ]
  },
  {
   "cell_type": "code",
   "execution_count": null,
   "id": "73f52267",
   "metadata": {},
   "outputs": [],
   "source": [
    "x = 'Hello Reader!' # x as a variable is used as a container to store the actual message\n",
    "print(x)"
   ]
  },
  {
   "cell_type": "code",
   "execution_count": null,
   "id": "19d080bc",
   "metadata": {},
   "outputs": [],
   "source": [
    "x = 'Salut'\n",
    "print(x+x)\n",
    "print(x*3)\n",
    "print(x[0]) #this is called string sclicing, allowing you to print out a specified amount of the string\n",
    "# ! careful, though ! The count starts at 0 not 1"
   ]
  },
  {
   "cell_type": "code",
   "execution_count": null,
   "id": "56cb6338",
   "metadata": {},
   "outputs": [],
   "source": [
    "from IPython.display import * #the star imports the entire library "
   ]
  },
  {
   "cell_type": "code",
   "execution_count": null,
   "id": "9e74ac7a",
   "metadata": {},
   "outputs": [],
   "source": [
    "YouTubeVideo('Yn_uHvb5vPQ?si=MyhLpZTkYQr9oGTi') # one of my favourite songs ;)"
   ]
  },
  {
   "cell_type": "markdown",
   "id": "8b568e53",
   "metadata": {},
   "source": [
    "`Source:` LetsNot Media (2018): Harry Potter - The Rap. YouTube. Avaliable Online at https://www.youtube.com/watch?v=Yn_uHvb5vPQ (Accessed 07.12.2023)."
   ]
  },
  {
   "cell_type": "code",
   "execution_count": null,
   "id": "5aa18d3c",
   "metadata": {},
   "outputs": [],
   "source": [
    "import webbrowser\n",
    "import requests\n",
    "\n",
    "print(\"Shall we hunt down an old website?\") # prints out text\n",
    "site = input(\"Type a website URL: \") # assigns the user input of a link to the variable site\n",
    "era = input(\"Type year, month, and date, e.g., 20150613: \") # assigngs the user's input of the date to the variable era\n",
    "url = \"http://archive.org/wayback/available?url=%s&timestamp=%s\" % (site, era) # adds the different inputs to the url of the web archive to display the archive link\n",
    "response = requests.get(url) # sends get request to database for the specifiec url\n",
    "data = response.json() # json object of the fetched archive website is assigned to veriable data\n",
    "try: # if it manages to do this it does it otherwise it prints sorry couldnt find website\n",
    "    old_site = data[\"archived_snapshots\"][\"closest\"][\"url\"]  #gets the elements of the json object \n",
    "    print(\"Found this copy: \", old_site) # prints the old url it found\n",
    "    print(\"It should appear in your browser.\") # prints message\n",
    "    webbrowser.open(old_site) # opens old link in browser\n",
    "except:\n",
    "    print(\"Sorry, could not find the site.\") # if it cant find page prints message\n"
   ]
  },
  {
   "cell_type": "code",
   "execution_count": null,
   "id": "846c66e9",
   "metadata": {},
   "outputs": [],
   "source": [
    "from IPython.display import Image \n",
    "Image('picture1.jpg') "
   ]
  },
  {
   "cell_type": "code",
   "execution_count": null,
   "id": "0fd85174",
   "metadata": {},
   "outputs": [],
   "source": [
    "from IPython.display import Audio\n",
    "Audio('audio1.mid') "
   ]
  },
  {
   "cell_type": "code",
   "execution_count": null,
   "id": "8f5d1b05",
   "metadata": {},
   "outputs": [],
   "source": [
    "Audio('audio2.ogg')\n",
    "#This file is licensed under the Creative Commons Attribution-Share Alike 3.0 Unported license.\n",
    "#You are free: \n",
    "#•\tto share – to copy, distribute and transmit the work\n",
    "#•\tto remix – to adapt the work\n",
    "#Under the following conditions: \n",
    "#•\tattribution – You must give appropriate credit, provide a link to the license, and indicate if changes were made. You may do so in any reasonable manner, but not in any way that suggests the licensor endorses you or your use.\n",
    "#•\tshare alike – If you remix, transform, or build upon the material, you must distribute your contributions under the same or compatible license as the original.\n",
    "#The original ogg file was found at the url: \n",
    "#https://en.wikipedia.org/wiki/File:GoldbergVariations_MehmetOkonsar-1of3_Var1to10.ogg\n"
   ]
  },
  {
   "cell_type": "markdown",
   "id": "7a984975",
   "metadata": {},
   "source": [
    "## Reflection\n",
    "The imported library enables us to display the two audio files. The first audio file was not playable which I assume is because my browser (Chrome) does not support this file format (.mid). It is important to keep the file name identical, as a typo has caused me problems in this task. I will for the future remember to spell check."
   ]
  },
  {
   "cell_type": "markdown",
   "id": "574b8b9b",
   "metadata": {},
   "source": [
    "# Mathplotlib"
   ]
  },
  {
   "cell_type": "code",
   "execution_count": null,
   "id": "5444a7f6",
   "metadata": {},
   "outputs": [],
   "source": [
    "from matplotlib import pyplot # matplotlib is for displaying graphs and handling numbers"
   ]
  },
  {
   "cell_type": "code",
   "execution_count": null,
   "id": "c8ef79ee",
   "metadata": {},
   "outputs": [],
   "source": [
    "test_picture = pyplot.imread(\"picture1.jpg\") # the picture is turned into an array of numbers \n",
    "print(\"Numpy array of this image is \", test_picture)\n",
    "pyplot.imshow(test_picture) # the numbers are read in and displayed, showing the image again"
   ]
  },
  {
   "cell_type": "code",
   "execution_count": null,
   "id": "831bc4cd",
   "metadata": {},
   "outputs": [],
   "source": [
    "test_picture_filtered = 2*test_picture/3\n",
    "pyplot.imshow(test_picture_filtered)"
   ]
  },
  {
   "cell_type": "code",
   "execution_count": null,
   "id": "e0731d74",
   "metadata": {},
   "outputs": [],
   "source": [
    "from sklearn import datasets \n",
    "dir(datasets) # shows avaliable datasets"
   ]
  },
  {
   "cell_type": "markdown",
   "id": "378e2f5a",
   "metadata": {},
   "source": [
    "### Why did I chose: breast_cancer and boston?\n",
    "Assuming from the tiltes, both datasets about breast cancer and boston seem interesting. I find especially interesting that they seem like one can draw larger conclusions both about boston but also breast cancer from the data correlations. For example, I find it interesting to see if socioeconomic factors (in case they are included) might play a role in breast cancer illness. Or how cost of living in some boston quarters might correlate with crime rates."
   ]
  },
  {
   "cell_type": "code",
   "execution_count": null,
   "id": "9ba6f3ec",
   "metadata": {},
   "outputs": [],
   "source": [
    "boston_data = datasets.load_boston()"
   ]
  },
  {
   "cell_type": "code",
   "execution_count": null,
   "id": "228d16b5",
   "metadata": {},
   "outputs": [],
   "source": [
    "boston_data.DESCR # describes the dataset"
   ]
  },
  {
   "cell_type": "code",
   "execution_count": null,
   "id": "4727ddf2",
   "metadata": {},
   "outputs": [],
   "source": [
    "print(boston_data.DESCR) # formats the description"
   ]
  },
  {
   "cell_type": "code",
   "execution_count": null,
   "id": "a7af6cc3",
   "metadata": {},
   "outputs": [],
   "source": [
    "boston_data.feature_names"
   ]
  },
  {
   "cell_type": "code",
   "execution_count": null,
   "id": "bef80b3b",
   "metadata": {},
   "outputs": [],
   "source": [
    "wine_data=datasets.load_wine()"
   ]
  },
  {
   "cell_type": "code",
   "execution_count": null,
   "id": "1f154844",
   "metadata": {},
   "outputs": [],
   "source": [
    "wine_data.target_names"
   ]
  },
  {
   "cell_type": "code",
   "execution_count": null,
   "id": "5c78ba36",
   "metadata": {},
   "outputs": [],
   "source": [
    "breast_cancer_data = datasets.load_breast_cancer()"
   ]
  },
  {
   "cell_type": "code",
   "execution_count": null,
   "id": "997acab1",
   "metadata": {},
   "outputs": [],
   "source": [
    "print(breast_cancer_data.DESCR)"
   ]
  },
  {
   "cell_type": "code",
   "execution_count": null,
   "id": "84834abe",
   "metadata": {},
   "outputs": [],
   "source": [
    "breast_cancer_data.target_names() # this code throws the error because the object breast_cancer_data does not have the attribute target_names()"
   ]
  },
  {
   "cell_type": "code",
   "execution_count": null,
   "id": "e7c581c4",
   "metadata": {},
   "outputs": [],
   "source": [
    "from sklearn import datasets\n",
    "import pandas # pandas allows the creation of data frames, which make handeling tabular data easier\n",
    "\n",
    "wine_data = datasets.load_wine()\n",
    "wine_dataframe = pandas.DataFrame(data=wine_data['data'], columns = wine_data['feature_names'])\n"
   ]
  },
  {
   "cell_type": "code",
   "execution_count": null,
   "id": "0b429cee",
   "metadata": {},
   "outputs": [],
   "source": [
    "wine_dataframe.head() # shows the first 5 entries"
   ]
  },
  {
   "cell_type": "code",
   "execution_count": null,
   "id": "9eddd47d",
   "metadata": {},
   "outputs": [],
   "source": [
    "wine_dataframe.describe() "
   ]
  },
  {
   "cell_type": "markdown",
   "id": "14ffce5d",
   "metadata": {},
   "source": [
    "# Homework reflection\n",
    "Finding data bias in a data set can be very difficult because we have a lot of subconcious biases. In fact for some biases it is in the essence that we do not know about being biased in that way. Nonetheless, there are a few things we can do.  \n",
    "Firstly, one can make a list of what the dataset shows versus what it excludes. By asking the question, is this enough to paint a holistic picture of the thing the data represents, one can discover a few missing aspects.  \n",
    "Secondly, one can analyse who made the dataset and how it was put together. This sometimes reveals biases present in the dataset creation. "
   ]
  }
 ],
 "metadata": {
  "kernelspec": {
   "display_name": "Python 3 (ipykernel)",
   "language": "python",
   "name": "python3"
  },
  "language_info": {
   "codemirror_mode": {
    "name": "ipython",
    "version": 3
   },
   "file_extension": ".py",
   "mimetype": "text/x-python",
   "name": "python",
   "nbconvert_exporter": "python",
   "pygments_lexer": "ipython3",
   "version": "3.10.9"
  }
 },
 "nbformat": 4,
 "nbformat_minor": 5
}

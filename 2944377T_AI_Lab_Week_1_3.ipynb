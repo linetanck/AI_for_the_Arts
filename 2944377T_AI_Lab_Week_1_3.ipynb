{
 "cells": [
  {
   "cell_type": "markdown",
   "id": "51a1659e",
   "metadata": {},
   "source": [
    "# Week 1: Getting started with Anaconda, Python and Jupyter\n",
    "Exercises to familiarize myself with python."
   ]
  },
  {
   "cell_type": "markdown",
   "id": "13471356",
   "metadata": {},
   "source": [
    "## Why did I chose this course?\n",
    "In the ever changing media landscape, staying up to date with new technological advancements is crucial.  \n",
    "AI has always interested me due to its incredible potential for problem solving. The diversity of usage for AI is very inspiring and motivates me to learn how to implement the technology.  \n",
    "Unfortunately, trying to learn AI coding by yourself is very daunting, so I chose this course to get a guided introduction in the matter."
   ]
  },
  {
   "cell_type": "markdown",
   "id": "77edf4cb",
   "metadata": {},
   "source": [
    "## Prior experience\n",
    "I have programmed a neural network in a seminar before and worked with python for web development and other projects."
   ]
  },
  {
   "cell_type": "markdown",
   "id": "dc2c5526",
   "metadata": {},
   "source": [
    "## What do I expect?\n",
    "- Ethical and cultural implications of AI\n",
    "- Programming a neural network possibly\n",
    "- Getting introduced to several areas of AI"
   ]
  },
  {
   "cell_type": "code",
   "execution_count": 1,
   "id": "f1e0d0c4",
   "metadata": {},
   "outputs": [
    {
     "name": "stdout",
     "output_type": "stream",
     "text": [
      "Hello World!\n"
     ]
    }
   ],
   "source": [
    "print('Hello World!')"
   ]
  },
  {
   "cell_type": "code",
   "execution_count": 2,
   "id": "73f52267",
   "metadata": {},
   "outputs": [
    {
     "name": "stdout",
     "output_type": "stream",
     "text": [
      "Hello World!\n"
     ]
    }
   ],
   "source": [
    "x = 'Hello World!'\n",
    "print(x)"
   ]
  },
  {
   "cell_type": "code",
   "execution_count": 4,
   "id": "19d080bc",
   "metadata": {},
   "outputs": [
    {
     "name": "stdout",
     "output_type": "stream",
     "text": [
      "SalutSalut\n",
      "SalutSalutSalut\n",
      "S\n"
     ]
    }
   ],
   "source": [
    "x = 'Salut'\n",
    "print(x+x)\n",
    "print(x*3)\n",
    "print(x[0])"
   ]
  },
  {
   "cell_type": "code",
   "execution_count": 5,
   "id": "56cb6338",
   "metadata": {},
   "outputs": [],
   "source": [
    "from IPython.display import *"
   ]
  },
  {
   "cell_type": "code",
   "execution_count": 6,
   "id": "9e74ac7a",
   "metadata": {},
   "outputs": [
    {
     "data": {
      "text/html": [
       "\n",
       "        <iframe\n",
       "            width=\"400\"\n",
       "            height=\"300\"\n",
       "            src=\"https://www.youtube.com/embed/Yn_uHvb5vPQ?si=MyhLpZTkYQr9oGTi\"\n",
       "            frameborder=\"0\"\n",
       "            allowfullscreen\n",
       "        ></iframe>\n",
       "        "
      ],
      "text/plain": [
       "<IPython.lib.display.YouTubeVideo at 0x262f6cc1d00>"
      ]
     },
     "execution_count": 6,
     "metadata": {},
     "output_type": "execute_result"
    }
   ],
   "source": [
    "YouTubeVideo('Yn_uHvb5vPQ?si=MyhLpZTkYQr9oGTi')"
   ]
  },
  {
   "cell_type": "code",
   "execution_count": 7,
   "id": "5aa18d3c",
   "metadata": {},
   "outputs": [
    {
     "name": "stdout",
     "output_type": "stream",
     "text": [
      "Shall we hunt down an old website?\n",
      "Type a website URL: https://help.tcgplayer.com/hc/en-us/articles/115008106868-Finding-Your-YouTube-Video-ID\n",
      "Type year, month, and date, e.g., 20150613: 20150613\n",
      "Found this copy:  http://web.archive.org/web/20190120222800/https://help.tcgplayer.com/hc/en-us/articles/115008106868-Finding-Your-YouTube-Video-ID\n",
      "It should appear in your browser.\n"
     ]
    }
   ],
   "source": [
    "import webbrowser\n",
    "import requests\n",
    "\n",
    "print(\"Shall we hunt down an old website?\") # prints out text\n",
    "site = input(\"Type a website URL: \") # assigns the user input of a link to the variable site\n",
    "era = input(\"Type year, month, and date, e.g., 20150613: \") # assigngs the user's input of the date to the variable era\n",
    "url = \"http://archive.org/wayback/available?url=%s&timestamp=%s\" % (site, era) # adds the different inputs to the url of the web archive to display the archive link\n",
    "response = requests.get(url) # sends get request to database for the specifiec url\n",
    "data = response.json() # json object of the fetched archive website is assigned to veriable data\n",
    "try: # if it manages to do this it does it otherwise it prints sorry couldnt find website\n",
    "    old_site = data[\"archived_snapshots\"][\"closest\"][\"url\"]  #gets the elements of the json object \n",
    "    print(\"Found this copy: \", old_site) # prints the old url it found\n",
    "    print(\"It should appear in your browser.\") # prints message\n",
    "    webbrowser.open(old_site) # opens old link in browser\n",
    "except:\n",
    "    print(\"Sorry, could not find the site.\") # if it cant find page prints message\n"
   ]
  },
  {
   "cell_type": "code",
   "execution_count": null,
   "id": "846c66e9",
   "metadata": {},
   "outputs": [],
   "source": []
  }
 ],
 "metadata": {
  "kernelspec": {
   "display_name": "Python 3",
   "language": "python",
   "name": "python3"
  },
  "language_info": {
   "codemirror_mode": {
    "name": "ipython",
    "version": 3
   },
   "file_extension": ".py",
   "mimetype": "text/x-python",
   "name": "python",
   "nbconvert_exporter": "python",
   "pygments_lexer": "ipython3",
   "version": "3.8.8"
  }
 },
 "nbformat": 4,
 "nbformat_minor": 5
}

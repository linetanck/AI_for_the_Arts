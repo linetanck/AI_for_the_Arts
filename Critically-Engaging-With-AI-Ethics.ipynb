{
 "cells": [
  {
   "cell_type": "markdown",
   "id": "d1b5028e",
   "metadata": {},
   "source": [
    "# Critically Engaging with AI Ethics\n",
    "\n",
    "In this lab we will be critically engaging with existing datasets that have been used to address ethics in AI. In particular, we will explore the [**Jigsaw Toxic Comment Classification Challenge**](https://www.kaggle.com/datasets/julian3833/jigsaw-toxic-comment-classification-challenge). This challenge brought to light bias in the data that sparked the [Jigsaw Unintended Bias in Toxicity Classification Challenge](https://www.kaggle.com/c/jigsaw-unintended-bias-in-toxicity-classification). \n",
    "\n",
    "In this lab, we will dig into the dataset ourselves to explore the biases. We will further explore other datasets to expand our thinking about bias and fairness in AI in relation to aspects such as demography and equal opportunity as well as performance and group unawareness of the model. We will learn more about that in the tutorial below.\n",
    "\n",
    "# Task 1: README!\n",
    "\n",
    "This week, coding activity will be minimal, if any. However, as always, you will be expected to incorporate your analysis, thoughts and discussions into your notebooks as markdown cells, so I recommend you start up your Jupyter notebook in advance. As always, **remember**:\n",
    "\n",
    "- To ensure you have all the necessary Python libraries/packages for running code you are recommended to use your environment set up on the **Glasgow Anywhere Student Desktop**.\n",
    "- Start anaconda, and launch Jupyter Notebook from within Anaconda**. If you run Jupyter Notebook without going through Anaconda, you might not have access to the packages installed on Anaconda.\n",
    "- If you run Anaconda or Jupyter Notebook on a local lab computer, there is no guarantee that these will work properly, that the packages will be available, or that you will have permission to install the extra packages yourself.\n",
    "- You can set up Anaconda on your own computer with the necessary libraries/packages. Please check how to set up a new environement in Anaconda and review the minimum list of Python libraries/packages, all discussed in Week 4 lab.\n",
    "- We strongly recommend that you save your notebooks in the folder you made in Week 1 exercise, which should have been created in the University of Glasgow One Drive - **do not confuse this with personal and other organisational One Drives**. Saving a copy of your notebooks on the University One Drive ensures that it is backed up (the first principles of digital preservation and information mnagement).\n",
    "- When you are on the Remote desktop, the `University of Glasgow One Drive` should be visible in the home directory of the Jupyter Notebook. Other machines may require additional set up and/or navigation for One Drive to be directly accessible from Jupyter Notebook.\n"
   ]
  },
  {
   "cell_type": "markdown",
   "id": "2ba3a8e5",
   "metadata": {},
   "source": [
    "# Task 2: Identifying Bias\n",
    "\n",
    "This week we will make use of one of the [Kaggle](https://www.kaggle.com) tutorials and their associated notebooks to learn how to identify different types of bias. Biases can creep in at any stage of the AI task, from data collection methods, how we split/organise the test set, different algorithms, how the results are interpreted and deployed. Some of these topics have been extensively discussed and as a response, Kaggle has developed a course on AI ethics:\n",
    "\n",
    "- Navigate to the [Kaggle tutorial on Identifying Bias in AI](https://www.kaggle.com/code/alexisbcook/identifying-bias-in-ai/tutorial). \n",
    "- In this section we will explore the [Jigsaw Toxic Comment Classification Challenge](https://www.kaggle.com/datasets/julian3833/jigsaw-toxic-comment-classification-challenge) to discover different types of biases that might emerge in the dataset. \n",
    "\n",
    "#### Task 2-a: Understanding the Scope of Bias\n",
    "\n",
    "Read through the first page of the [Kaggle tutorial on Identifying Bias in AI] to understand the scope of biases discussed at Kaggle.\n",
    "- How many types of biases are described on the page? \n",
    "- Which type of bias did you know about already before this course and which type was new to you? \n",
    "- Can you think of any others? Create a markdown cell below to discuss your thoughts on these questions.\n",
    "\n",
    "Note that the biases discussed in the tutorial are not an exhaustive list. Recall that biases can exist across the entire machine learning pipeline. \n",
    "\n",
    "- Scroll down to the end of the Kaggle tutorial page and click on the link to the exercise to work directly with a model and explore the data.** \n",
    "\n",
    "#### Task 2-b: Run through the tutorial. Take selected screenshorts of your activity while doing the tutorial.\n",
    "\n",
    "- Discuss with your peer group, your findings about the biases in the data, including types of biases. \n",
    "- Demonstrate your discussion with examples and screenshots of your activity on the tutorial. Present these in your own notebook.\n",
    "\n",
    "Modify the markdown cell below to address the Tasks 2-a and 2-b."
   ]
  },
  {
   "attachments": {},
   "cell_type": "markdown",
   "id": "bf15d2f9",
   "metadata": {},
   "source": [
    "**Markdown for discussing bias**\n",
    "2a:  \n",
    "1. The Kaggle page describes six types of bias.\n",
    "2. I did know about representation bias, evaluation bias and deployment bias. I did not know about aggregation bias, historical bias and measurement bias. \n",
    "3. I think it is interesting that I have been reflecting about bias for a long time and i still discover new ones. It shows the dangers of bias being undiscovered very well. Another bias I know about is prejudice bias. It is caused with human input that is prejudiced and the prejudice gets transferred into the data. One example for prejudice could be racism that can be seen in some of the screenshots as well.\n",
    "\n",
    "    \n",
    "2b:   \n",
    "The following 2 images show the difference between the classification of the sentences \"I love this\" (classified as not toxic) and \"I bloody love this\" (classified as toxic even though its not)\n",
    "![Image shows rating of sentence 'I love this' as not toxic](images/love.png)   \n",
    "![Image shows rating of sentence 'I bloody love this' as toxic](images/love_bloody.png)   \n",
    "\n",
    "The following 3 images show how the AI itself is not racist but has taken over the racism that has been transferred to the data. \n",
    "![Image shows rating of sentence 'I love my white friend' as not toxic](images/white.png)   \n",
    "![Image shows rating of sentence 'I love my muslim friend' as toxic](images/muslim.png)   \n",
    "![Image shows rating of sentence 'I love my black friend' as toxic](images/black.png)   \n"
   ]
  },
  {
   "cell_type": "markdown",
   "id": "45b38fa2",
   "metadata": {},
   "source": [
    "# Task 3: Large Language Models and Bias: Word Embedding Demo\n",
    "\n",
    "Go to the [embedding projector at tensorflow.org](http://projector.tensorflow.org/). This may take some time to load so be patient! There is a lot of information being visualised. This will take especially long if you select \"Word2Vec All\" as your dataset. The projector provides a visualisation of the langauge language model called **Word2Vec**.\n",
    "\n",
    "This tool also provides the option of visualising the organisation of hand written digits from the MNIST dataset to see how data representations of the digits are clustered together or not. There is also the option of visualising the `iris` dataset from `scikit-learn` with respect to their categories. Feel free to explore these as well if you like.\n",
    "\n",
    "For the current exercise, we will concentrate on exploring the relationships between the words in the **Word2Vec** model. First, select **Word2Vec 10K** from the drop down menu (top lefthand side). This is a reduced version of **Word2Vec All**. You can search for words by submitting them in the search box on the right hand side. \n",
    "\n",
    "#### Task 3.1: Initial exploration of words and relationships\n",
    "\n",
    "- Type `apple` and click on `Isolate 101 ppints`. This reduces the noise. Note how juice, fruit, wine are closer together than macintosh, computers and atari. \n",
    "- Try also words like `silver` and `sound`. What are your observations. Does it seem like words related to each other are sitting closer to each other?\n",
    "\n",
    "#### Task 3.2: Exploring \"Word2Vec All\" for patterns\n",
    "\n",
    "- Try to load \"Word2Vec All\" dataset if you can (this may take a while so be patient!) and explore the word `engineer`, `drummer`or any other occupation - what do you find? \n",
    "- Do you think perhaps there are concerns of gender bias? If so, how? If not, why not? Discuss it with our peer group and present the results in a your notebook.\n",
    "- Why not make some screenshots to embed into your notebook along with your comment? This could make it more understandable to a broader audience. \n",
    "- Do not forget to include attribution to the authors of the Projector demo.\n",
    "\n",
    "Modify the markdown cell below to present your thoughts."
   ]
  },
  {
   "attachments": {},
   "cell_type": "markdown",
   "id": "e0317fe1",
   "metadata": {},
   "source": [
    "**Markdown cell for discussing large language models**\n",
    "\n",
    "3.1:  \n",
    "1. Isolating the 101 points shows words that are some way or another closely related to another. The amount of how much they are related is shown in their closeness. Apple is closer to juice than to macintosh as one firstly associates juice with apple. The correlation is might be related to how often the word apple is used with the other words together. \n",
    "![Screenshot of the word 'apple' entererd into the model](images/apple.png)  \n",
    "  \n",
    "<b>3.2:  </b>\n",
    "1. When looking at the word drummer especially, the model shows a big group of male names that are associated with the word drummer. Similar, when entering other occupations like singer only male names are associated. \n",
    "![Screenshot of the word 'drummer' entererd into the model, male names highlighted blue](images/drummer.png)\n",
    "![Screenshot of the word 'singer' entererd into the model, male names highlighted blue](images/singer.png)\n",
    "\n",
    "2. This is clear evidence that there is a gender bias in the model. Additionally, the occupations associated with eachother sometimes have nothing logically to do with each other, except both being very traditionally male professions. An example would be engineer and diplomat.\n",
    "\n",
    " \n",
    "  \n",
    "Embedding projector found under https://projector.tensorflow.org/ (Accessed 23.11.2023)\n"
   ]
  },
  {
   "cell_type": "markdown",
   "id": "09ffeb50",
   "metadata": {},
   "source": [
    "# Task 4: Thinking about AI Fairness \n",
    "\n",
    "So we now know that AI models (e.g. large language models) can be biased. We saw that with the embedding projector already. We discussed in the previous exercise about the machine learning pipeline, how the assessment of datasets can be crucicial to deciding the suitability of deploying AI in the real world. This is where data connects to questions of fairness.\n",
    "\n",
    "- Navigate to the [Kaggle Tutorial on AI Fairness](https://www.kaggle.com/code/alexisbcook/ai-fairness). \n",
    "\n",
    "#### Task 4-a: Topics in AI Fairness\n",
    "Read through the page to understand the scope of the fairness criteria discussed at Kaggle. Just as we dicussed with bias, the fairness criteria discussed at Kaggle is not exhaustive. \n",
    "- How many criteria are described on the page? \n",
    "- Which criteria did you know about already before this course and which, if any, was new to you? \n",
    "- Can you think of any other criteria? Create a markdown cell and note down your discussion with your peer group on these questions.\n",
    "\n",
    "#### Task 4-b: AI fairness in the context of the credit card dataset. \n",
    "Scroll down to the end of [the page on AI fairness](https://www.kaggle.com/code/alexisbcook/ai-fairness) to find a link to another interactive exercise to run code in a notebook using credit card application data.\n",
    "- Run the tutorial, while taking selected screenshots.\n",
    "- Discuss your findings with your peer group.\n",
    "- Note down the key points of your activity and discussion in your notebook using the example and screenshots of your activity on the tutorial.\n",
    "\n",
    "\n",
    "Report the results of the activity and discussion by modifying the markdown cell below."
   ]
  },
  {
   "attachments": {},
   "cell_type": "markdown",
   "id": "493fbafc",
   "metadata": {},
   "source": [
    "**Markdown cell for discussing fairness**\n",
    "\n",
    "4a:  \n",
    "1. The tutorial describes four criteria: Demographic parity / statistical parity, Equal opportunity, Equal accuracy, and Group unaware / \"Fairness through unawareness\".\n",
    "2. I did not know about any criteria before this course, however, the concept makes a lot of logical sense to me. After I understood the rational underlying the first criteria, the rest are very close in logic. \n",
    "3. Coming up with more criteria is difficult. One might measure the fairness based on whether the probablity of one group having a true positive influences the other groups ability to have a true positive. The evaluation would be if the groups are independent from another.\n",
    "  \n",
    "4b:  \n",
    "When executing the code, there is a distribution matrix created for the performance of a modle on test data that includes two distinct group associations. An example of the performance numbers when the model is evalutated is found in the screenshot:  \n",
    "![distr_1.png](images/distr_1.png)  \n",
    "Considering all the fairness criteria, the data is unfairly putting members of group B in an advantage when it comes to a credit card. More detailed, group B has significantly or true positive values than group A. Regarding demographic parity, Group B has more members than group A. Lastly, it is minimally more accurate for group B. Thus the advantage of group B.   \n",
    "See: ![Screenshot showing the explanation of the kaggle notebook for group data](images/sol_1.png)  \n",
    "Removing groups from the training data and thus having a group unaware model checked for its performance leads to a different bias. When considering demographic parity, the model still prefers group B, however, all the other fairness criteria prefer group A. But the model performs less accurate for both groups.  \n",
    "See ![Screenshot showing the explanation of the kaggle notebook for group unaware model](images/sol_2.png)    \n",
    "When training a third model with the purpose of having an equal amount of approved clients from both groups, the numbers show the model achieves this. In the perspective of demographic parity, this way is more fair. The accuracy suffers but is equally reduced. However, it it more biased towards group A.  \n",
    "See: ![Screenshot showing the explanation of the kaggle notebook for demographic parity](images/sol_3.png)   \n",
    "Source of screenshots: Cook, Alexis (n.D.): AI Fairness. Notebook for Step 4/5. Kaggle. Avaliabel online at https://www.kaggle.com/code/alexisbcook/ai-fairness/tutorial (Accessed 03.12.2023). "
   ]
  },
  {
   "cell_type": "markdown",
   "id": "1264c12a",
   "metadata": {},
   "source": [
    "# Task 5: AI and Explainability\n",
    "\n",
    "In this section we will explore the reasons behind decisions that AI makes. While this is really hard to know, there are some approaches developed to know which features in your data (e.g. median_income in the housing dataset we used before) played a more important role than others in determining how your machine learning model performs. One of the many approaches for assessing feature importance is **permutation importance**.\n",
    "\n",
    "The idea behind permutation importance is simple. Features are what you might consider the columns in a tabulated dataset, such as that might be found in a spreadsheet. \n",
    "- The idea of permutation importance is that a feature is important if the performance of your AI program gets messed up by **shuffling** or **permuting** the order of values in that feature column for the entries in your test data. \n",
    "- The more your AI performance gets messed up in response to the shuffling, the more likely the feature was important for the AI model.\n",
    " \n",
    "To make this idea more concrete, read through the page at the [Tutorial on Permutation Importance](https://www.kaggle.com/code/dansbecker/permutation-importance) at Kaggle. The page describes an example to \"predict a person's height when they become 20 years old, using data that is available at age 10\". \n",
    "\n",
    "The page invites you to work with code to calculate the permutation importance of features for an example in football to predict \"whether a soccer/football team will have the \"Man of the Game\" winner based on the team's statistics\". Scroll down to the end of the page to the section \"Your Turn\" where you will find a link to an exercise to try it yourself to calculate the importance of features in a Taxi Fare Prediction dataset.\n",
    "\n",
    "#### Task 1-a: Carry out the exercise, taking screenshots of the exercise as you make progress. Using screen shots and text in your notebook, answer the following question: \n",
    "1. How many features are in this dataset? \n",
    "2. Were the results of doing the exercise contrary to intuition? If yes, why? If no, why not? \n",
    "3. Discuss your results with your peer group.\n",
    "4. Include your screenshots, text, and discyssions in a markdown cell.\n",
    "\n",
    "#### Task 1-b: Reflecting on Permutation Importance.\n",
    "\n",
    "- Do you think the permutation importance is a reasonable measure of feature importance? \n",
    "- Can you think of any examples where this would have issues? \n",
    "- Discuss these questions in your notebook - describe your example, if you have any, and discuss the issues. "
   ]
  },
  {
   "attachments": {},
   "cell_type": "markdown",
   "id": "14392423",
   "metadata": {},
   "source": [
    "1a:  \n",
    "1. The dataset used in the tutorial has seven features: fare_amount, pickup_datetime, pickup_longitude, pickup_latitude, dropoff_longitude, dropoff_latitude and passenger_count. The first model uses five of those as shown in the screenshot below:  \n",
    "![screenshot of the data structure used in first model](images/data_taxi.png) \n",
    "2. I did not expect there to be a difference in relevance of the longitude and latitude features. As seen in the screenshot below, there are differences, which surprised me.  \n",
    "![screenshot showing the permutation importance scores for predicting taxi prices for 5 features](images/taxi_perm_5.png)  \n",
    "Equally surprising to me was that you cannot say that traveling a latitudinal distance is more expensive than traveling an identical longitudinal distance.\n",
    "3. In the peer group we discussed the importance of always checking your own intuition. We were all very sure that it would not make a difference in features but we were proven wrong. This showed us that our own logic is not identical than that of AI as we dont follow patters and statistics of numbers. \n"
   ]
  },
  {
   "cell_type": "markdown",
   "id": "44978d66",
   "metadata": {},
   "source": [
    "# Task 6: Further Activities for Broader Discussion\n",
    "\n",
    "Apart from the [**Jigsaw Toxic Comment Classification Challenge**](https://www.kaggle.com/datasets/julian3833/jigsaw-toxic-comment-classification-challenge) another challenge you might explore is the [**Inclusive Images Challenge**](https://www.kaggle.com/c/inclusive-images-challenge). Read at least one of the following.\n",
    "\n",
    "- The [announcement of the Inclusive Images Challenge made by Google AI](https://ai.googleblog.com/2018/09/introducing-inclusive-images-competition.html). Explore the [Open Images Dataset V7](https://storage.googleapis.com/openimages/web/index.html) - this is where the Inclusive Images Challenge dataset comes from.\n",
    "- Article summarising [the Inclusive Image Challenge at NeurIPS 2018 conference](https://link.springer.com/chapter/10.1007/978-3-030-29135-8_6)\n",
    "- Explore the [recent controversy](https://www.theverge.com/21298762/face-depixelizer-ai-machine-learning-tool-pulse-stylegan-obama-bias) about bias in relation to [PULSE](https://paperswithcode.com/method/pulse) which, among other things, sharpens blurry images.\n",
    "- Given your exploration in the sections above, what problems might you foresee with [these tasks attempted with the Jigsaw dataset on toxicity](https://link.springer.com/chapter/10.1007/978-981-33-4367-2_81)?\n",
    "\n",
    "There are many concepts (e.g. model cards and datasheets) omitted in discussion above about AI and Ethics. To acquire a foundational knowledge of transparency, accessibility and fairness:\n",
    "\n",
    "- You are welcome to carry out the rest of the [Kaggle course on Intro to AI Ethics](https://www.kaggle.com/learn/intro-to-ai-ethics) to see some ideas from the Kaggle community. \n",
    "- You are welcome to carry out the rest of the [Kaggle tutorial on explainability]( https://www.kaggle.com/learn/machine-learning-explainability) but these are a bit more technical in nature.\n",
    "- "
   ]
  },
  {
   "cell_type": "markdown",
   "id": "36b9e364",
   "metadata": {},
   "source": [
    "#### Some reflection about PULSE\n",
    "Pulse has the same issue that the Jigsaw dataset has. Both AI models exhibit racist tendencies. This does not mean that the models make racist decisions but that the data has the racism bias inscribed. Publicly, this misconception exists for both datasets. This shows the need to educate more on the biases of AI. Moreover, the fact that the PULSE project was published withouth noticing the bias shows that scientists are not aware of the problem enough either. "
   ]
  },
  {
   "cell_type": "markdown",
   "id": "ca51345e",
   "metadata": {},
   "source": [
    "# Summary\n",
    "\n",
    "In this lab, you explored a number of areas that pose challenges with regard to AI and ethics: bias, fairness and explainability. This, and other topics in reposible AI development, is currently at the forefront of the AI landscape. \n",
    "\n",
    "The discussions coming up in the lectures on applications of AI (to be presented by guest lecturers in the weeks to come) will undoubtedly intersect with these concerns. In preparation, you might think, in advance, about **what distinctive questions about ethics might arise in AI applications in law, language, finance, archives, generative AI and beyond**.   "
   ]
  }
 ],
 "metadata": {
  "kernelspec": {
   "display_name": "Python 3 (ipykernel)",
   "language": "python",
   "name": "python3"
  },
  "language_info": {
   "codemirror_mode": {
    "name": "ipython",
    "version": 3
   },
   "file_extension": ".py",
   "mimetype": "text/x-python",
   "name": "python",
   "nbconvert_exporter": "python",
   "pygments_lexer": "ipython3",
   "version": "3.10.9"
  }
 },
 "nbformat": 4,
 "nbformat_minor": 5
}
